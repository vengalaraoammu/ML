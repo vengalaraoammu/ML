{
 "cells": [
  {
   "cell_type": "code",
   "execution_count": 1,
   "id": "a7487e6f",
   "metadata": {},
   "outputs": [],
   "source": [
    "import pandas as pd\n",
    "import numpy as np"
   ]
  },
  {
   "cell_type": "code",
   "execution_count": 14,
   "id": "89ed2523",
   "metadata": {},
   "outputs": [],
   "source": [
    "X = [i for i in range(1, 8)]\n",
    "Y = [1.5, 3.8, 6.7, 9.0, 11.2, 13.6, 16]\n",
    "\n",
    "\n",
    "dataframe = pd.DataFrame(\n",
    "    data =  {\n",
    "        \"X\" : X,\n",
    "        \"Y\" : Y\n",
    "    }\n",
    ")"
   ]
  },
  {
   "cell_type": "code",
   "execution_count": 15,
   "id": "da652f71",
   "metadata": {},
   "outputs": [
    {
     "data": {
      "text/html": [
       "<div>\n",
       "<style scoped>\n",
       "    .dataframe tbody tr th:only-of-type {\n",
       "        vertical-align: middle;\n",
       "    }\n",
       "\n",
       "    .dataframe tbody tr th {\n",
       "        vertical-align: top;\n",
       "    }\n",
       "\n",
       "    .dataframe thead th {\n",
       "        text-align: right;\n",
       "    }\n",
       "</style>\n",
       "<table border=\"1\" class=\"dataframe\">\n",
       "  <thead>\n",
       "    <tr style=\"text-align: right;\">\n",
       "      <th></th>\n",
       "      <th>X</th>\n",
       "      <th>Y</th>\n",
       "    </tr>\n",
       "  </thead>\n",
       "  <tbody>\n",
       "    <tr>\n",
       "      <th>0</th>\n",
       "      <td>1</td>\n",
       "      <td>1.5</td>\n",
       "    </tr>\n",
       "    <tr>\n",
       "      <th>1</th>\n",
       "      <td>2</td>\n",
       "      <td>3.8</td>\n",
       "    </tr>\n",
       "    <tr>\n",
       "      <th>2</th>\n",
       "      <td>3</td>\n",
       "      <td>6.7</td>\n",
       "    </tr>\n",
       "    <tr>\n",
       "      <th>3</th>\n",
       "      <td>4</td>\n",
       "      <td>9.0</td>\n",
       "    </tr>\n",
       "    <tr>\n",
       "      <th>4</th>\n",
       "      <td>5</td>\n",
       "      <td>11.2</td>\n",
       "    </tr>\n",
       "    <tr>\n",
       "      <th>5</th>\n",
       "      <td>6</td>\n",
       "      <td>13.6</td>\n",
       "    </tr>\n",
       "    <tr>\n",
       "      <th>6</th>\n",
       "      <td>7</td>\n",
       "      <td>16.0</td>\n",
       "    </tr>\n",
       "  </tbody>\n",
       "</table>\n",
       "</div>"
      ],
      "text/plain": [
       "   X     Y\n",
       "0  1   1.5\n",
       "1  2   3.8\n",
       "2  3   6.7\n",
       "3  4   9.0\n",
       "4  5  11.2\n",
       "5  6  13.6\n",
       "6  7  16.0"
      ]
     },
     "execution_count": 15,
     "metadata": {},
     "output_type": "execute_result"
    }
   ],
   "source": [
    "dataframe"
   ]
  },
  {
   "cell_type": "markdown",
   "id": "171d5513",
   "metadata": {},
   "source": [
    "$$ m = \\frac{n\\sum x*y - \\sum x\\sum y}{n\\sum x^{2} - (\\sum x)^{2}} $$"
   ]
  },
  {
   "cell_type": "code",
   "execution_count": 16,
   "id": "3e3478e0",
   "metadata": {},
   "outputs": [],
   "source": [
    "dataframe['XY'] = dataframe['X'] * dataframe['Y']\n",
    "dataframe[\"X^2\"] = dataframe['X'] ** 2"
   ]
  },
  {
   "cell_type": "code",
   "execution_count": 17,
   "id": "09b738d7",
   "metadata": {},
   "outputs": [
    {
     "data": {
      "text/html": [
       "<div>\n",
       "<style scoped>\n",
       "    .dataframe tbody tr th:only-of-type {\n",
       "        vertical-align: middle;\n",
       "    }\n",
       "\n",
       "    .dataframe tbody tr th {\n",
       "        vertical-align: top;\n",
       "    }\n",
       "\n",
       "    .dataframe thead th {\n",
       "        text-align: right;\n",
       "    }\n",
       "</style>\n",
       "<table border=\"1\" class=\"dataframe\">\n",
       "  <thead>\n",
       "    <tr style=\"text-align: right;\">\n",
       "      <th></th>\n",
       "      <th>X</th>\n",
       "      <th>Y</th>\n",
       "      <th>XY</th>\n",
       "      <th>X^2</th>\n",
       "    </tr>\n",
       "  </thead>\n",
       "  <tbody>\n",
       "    <tr>\n",
       "      <th>0</th>\n",
       "      <td>1</td>\n",
       "      <td>1.5</td>\n",
       "      <td>1.5</td>\n",
       "      <td>1</td>\n",
       "    </tr>\n",
       "    <tr>\n",
       "      <th>1</th>\n",
       "      <td>2</td>\n",
       "      <td>3.8</td>\n",
       "      <td>7.6</td>\n",
       "      <td>4</td>\n",
       "    </tr>\n",
       "    <tr>\n",
       "      <th>2</th>\n",
       "      <td>3</td>\n",
       "      <td>6.7</td>\n",
       "      <td>20.1</td>\n",
       "      <td>9</td>\n",
       "    </tr>\n",
       "    <tr>\n",
       "      <th>3</th>\n",
       "      <td>4</td>\n",
       "      <td>9.0</td>\n",
       "      <td>36.0</td>\n",
       "      <td>16</td>\n",
       "    </tr>\n",
       "    <tr>\n",
       "      <th>4</th>\n",
       "      <td>5</td>\n",
       "      <td>11.2</td>\n",
       "      <td>56.0</td>\n",
       "      <td>25</td>\n",
       "    </tr>\n",
       "    <tr>\n",
       "      <th>5</th>\n",
       "      <td>6</td>\n",
       "      <td>13.6</td>\n",
       "      <td>81.6</td>\n",
       "      <td>36</td>\n",
       "    </tr>\n",
       "    <tr>\n",
       "      <th>6</th>\n",
       "      <td>7</td>\n",
       "      <td>16.0</td>\n",
       "      <td>112.0</td>\n",
       "      <td>49</td>\n",
       "    </tr>\n",
       "  </tbody>\n",
       "</table>\n",
       "</div>"
      ],
      "text/plain": [
       "   X     Y     XY  X^2\n",
       "0  1   1.5    1.5    1\n",
       "1  2   3.8    7.6    4\n",
       "2  3   6.7   20.1    9\n",
       "3  4   9.0   36.0   16\n",
       "4  5  11.2   56.0   25\n",
       "5  6  13.6   81.6   36\n",
       "6  7  16.0  112.0   49"
      ]
     },
     "execution_count": 17,
     "metadata": {},
     "output_type": "execute_result"
    }
   ],
   "source": [
    "dataframe"
   ]
  },
  {
   "cell_type": "code",
   "execution_count": 18,
   "id": "e524df45",
   "metadata": {},
   "outputs": [],
   "source": [
    "n = len(dataframe)\n",
    "sum_xy = dataframe['XY'].sum()\n",
    "sum_x = dataframe['X'].sum()\n",
    "sum_y = dataframe['Y'].sum()\n",
    "sum_x_2 = dataframe['X^2'].sum()\n",
    "sum_x_h_2 = sum_x ** 2"
   ]
  },
  {
   "cell_type": "code",
   "execution_count": 1,
   "id": "02be7299",
   "metadata": {},
   "outputs": [
    {
     "ename": "NameError",
     "evalue": "name 'n' is not defined",
     "output_type": "error",
     "traceback": [
      "\u001b[1;31m---------------------------------------------------------------------------\u001b[0m",
      "\u001b[1;31mNameError\u001b[0m                                 Traceback (most recent call last)",
      "\u001b[1;32m<ipython-input-1-219c9680e414>\u001b[0m in \u001b[0;36m<module>\u001b[1;34m\u001b[0m\n\u001b[1;32m----> 1\u001b[1;33m \u001b[0mprint\u001b[0m\u001b[1;33m(\u001b[0m\u001b[0mn\u001b[0m\u001b[1;33m,\u001b[0m \u001b[0msum_xy\u001b[0m\u001b[1;33m,\u001b[0m \u001b[0msum_x\u001b[0m\u001b[1;33m,\u001b[0m \u001b[0msum_y\u001b[0m\u001b[1;33m,\u001b[0m \u001b[0msum_x_2\u001b[0m\u001b[1;33m,\u001b[0m \u001b[0msum_x_h_2\u001b[0m\u001b[1;33m)\u001b[0m\u001b[1;33m\u001b[0m\u001b[1;33m\u001b[0m\u001b[0m\n\u001b[0m",
      "\u001b[1;31mNameError\u001b[0m: name 'n' is not defined"
     ]
    }
   ],
   "source": [
    "print(n, sum_xy, sum_x, sum_y, sum_x_2, sum_x_h_2)"
   ]
  },
  {
   "cell_type": "code",
   "execution_count": 20,
   "id": "eccf1258",
   "metadata": {},
   "outputs": [],
   "source": [
    "numerator_m = (n*(sum_xy)) - (sum_x * sum_y)\n",
    "denominator_m = (n * sum_x_2) - (sum_x_h_2)"
   ]
  },
  {
   "cell_type": "code",
   "execution_count": 21,
   "id": "ab4e66e8",
   "metadata": {},
   "outputs": [
    {
     "data": {
      "text/plain": [
       "(473.1999999999998, 196)"
      ]
     },
     "execution_count": 21,
     "metadata": {},
     "output_type": "execute_result"
    }
   ],
   "source": [
    "numerator_m, denominator_m"
   ]
  },
  {
   "cell_type": "code",
   "execution_count": 22,
   "id": "74e7b7cd",
   "metadata": {},
   "outputs": [],
   "source": [
    "m = numerator_m / denominator_m"
   ]
  },
  {
   "cell_type": "code",
   "execution_count": 24,
   "id": "664fa639",
   "metadata": {},
   "outputs": [
    {
     "data": {
      "text/plain": [
       "2.4142857142857133"
      ]
     },
     "execution_count": 24,
     "metadata": {},
     "output_type": "execute_result"
    }
   ],
   "source": [
    "m"
   ]
  },
  {
   "cell_type": "markdown",
   "id": "f3f15bdb",
   "metadata": {},
   "source": [
    "$$b = \\frac{\\sum y - m * \\sum x}{n}$$"
   ]
  },
  {
   "cell_type": "code",
   "execution_count": 25,
   "id": "9bc62615",
   "metadata": {},
   "outputs": [],
   "source": [
    "numerator_b = sum_y - (m * sum_x)\n",
    "denominator_b = len(dataframe)"
   ]
  },
  {
   "cell_type": "code",
   "execution_count": 26,
   "id": "fe5acbb8",
   "metadata": {},
   "outputs": [
    {
     "data": {
      "text/plain": [
       "-0.8285714285714231"
      ]
     },
     "execution_count": 26,
     "metadata": {},
     "output_type": "execute_result"
    }
   ],
   "source": [
    "b = numerator_b / denominator_b\n",
    "b"
   ]
  },
  {
   "cell_type": "markdown",
   "id": "5374764a",
   "metadata": {},
   "source": [
    "$$y_{pred} = m\\sum_{i = 1}^{n}X + b $$"
   ]
  },
  {
   "cell_type": "code",
   "execution_count": 30,
   "id": "9736bb77",
   "metadata": {},
   "outputs": [],
   "source": [
    "# dataframe['X']"
   ]
  },
  {
   "cell_type": "code",
   "execution_count": 35,
   "id": "7ae5e650",
   "metadata": {},
   "outputs": [
    {
     "data": {
      "text/plain": [
       "[1.59, 4.0, 6.41, 8.83, 11.24, 13.66, 16.07]"
      ]
     },
     "execution_count": 35,
     "metadata": {},
     "output_type": "execute_result"
    }
   ],
   "source": [
    "y_pred = [round((m * Xi + b), 2) for Xi in dataframe['X']]\n",
    "y_pred"
   ]
  },
  {
   "cell_type": "markdown",
   "id": "320fa58f",
   "metadata": {},
   "source": [
    "$$squarederror = \\sum_{i=0}^{n}  (y_{pred} - y_{org})^{2}$$"
   ]
  },
  {
   "cell_type": "code",
   "execution_count": 50,
   "id": "b8f35ec2",
   "metadata": {},
   "outputs": [
    {
     "data": {
      "text/plain": [
       "0.17120000000000024"
      ]
     },
     "execution_count": 50,
     "metadata": {},
     "output_type": "execute_result"
    }
   ],
   "source": [
    "squared_error = sum([(y_pred_value - y_org_value) ** 2 \n",
    "                for y_pred_value, y_org_value in zip(y_pred, dataframe['Y'].values)])\n",
    "squared_error"
   ]
  },
  {
   "cell_type": "code",
   "execution_count": 37,
   "id": "8c7b8f39",
   "metadata": {},
   "outputs": [
    {
     "data": {
      "text/plain": [
       "0.17120000000000024"
      ]
     },
     "execution_count": 37,
     "metadata": {},
     "output_type": "execute_result"
    }
   ],
   "source": [
    "squared_error"
   ]
  },
  {
   "cell_type": "code",
   "execution_count": 48,
   "id": "f51fc514",
   "metadata": {},
   "outputs": [
    {
     "data": {
      "image/png": "[encoded data removed]",
      "text/plain": [
       "<Figure size 432x288 with 1 Axes>"
      ]
     },
     "metadata": {
      "needs_background": "light"
     },
     "output_type": "display_data"
    }
   ],
   "source": [
    "import matplotlib.pyplot as plt\n",
    "\n",
    "plt.scatter(list(range(len(dataframe))), dataframe['Y'].values, label=\"original\")\n",
    "plt.plot(list(range(len(dataframe))), y_pred, c='r', label=\"predicted\")\n",
    "plt.scatter(list(range(len(dataframe))), y_pred, c='y', label=\"predicted_S\")\n",
    "\n",
    "plt.legend()\n",
    "plt.show()"
   ]
  },
  {
   "cell_type": "code",
   "execution_count": 51,
   "id": "6363e7be",
   "metadata": {},
   "outputs": [],
   "source": [
    "# https://latex.codecogs.com/eqneditor/editor.php"
   ]
  },
  {
   "cell_type": "code",
   "execution_count": null,
   "id": "e5da3ebd",
   "metadata": {},
   "outputs": [],
   "source": [
    "class LogisticRegression:\n",
    "    \n",
    "    def __init__(self, dataframe):\n",
    "        self.n = len(dataframe)\n",
    "        self.sum_xy = dataframe['XY'].sum()\n",
    "        self.sum_x = dataframe['X'].sum()\n",
    "        self.sum_y = dataframe['Y'].sum()\n",
    "        self.sum_x_2 = dataframe['X^2'].sum()\n",
    "        self.sum_x_h_2 = sum_x ** 2\n",
    "    \n",
    "    def m_value(self):\n",
    "        pass\n",
    "    \n",
    "    def b_values(self):\n",
    "        pass\n",
    "    \n",
    "    def final_value(self):\n",
    "#         return y_pred\n",
    "        pass\n",
    "    def se(self):\n",
    "        pass\n",
    "    \n",
    "    def graph(self):\n",
    "        pass"
   ]
  }
 ],
 "metadata": {
  "kernelspec": {
   "display_name": "Python 3",
   "language": "python",
   "name": "python3"
  },
  "language_info": {
   "codemirror_mode": {
    "name": "ipython",
    "version": 3
   },
   "file_extension": ".py",
   "mimetype": "text/x-python",
   "name": "python",
   "nbconvert_exporter": "python",
   "pygments_lexer": "ipython3",
   "version": "3.8.8"
  }
 },
 "nbformat": 4,
 "nbformat_minor": 5
}
