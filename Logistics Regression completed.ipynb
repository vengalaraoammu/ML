{
 "cells": [
  {
   "cell_type": "code",
   "execution_count": 72,
   "id": "a7487e6f",
   "metadata": {},
   "outputs": [],
   "source": [
    "import pandas as pd\n",
    "import numpy as np"
   ]
  },
  {
   "cell_type": "code",
   "execution_count": 113,
   "id": "89ed2523",
   "metadata": {},
   "outputs": [
    {
     "name": "stdout",
     "output_type": "stream",
     "text": [
      "28\n"
     ]
    }
   ],
   "source": [
    "X = [i for i in range(1, 8)]\n",
    "Y = [1.5, 3.8, 6.7, 9.0, 11.2, 13.6, 16]\n",
    "\n",
    "dataframe = pd.DataFrame(\n",
    "    data =  {\n",
    "        \"X\" : X,\n",
    "        \"Y\" : Y\n",
    "    }\n",
    ")"
   ]
  },
  {
   "cell_type": "code",
   "execution_count": 74,
   "id": "da652f71",
   "metadata": {},
   "outputs": [
    {
     "data": {
      "text/html": [
       "<div>\n",
       "<style scoped>\n",
       "    .dataframe tbody tr th:only-of-type {\n",
       "        vertical-align: middle;\n",
       "    }\n",
       "\n",
       "    .dataframe tbody tr th {\n",
       "        vertical-align: top;\n",
       "    }\n",
       "\n",
       "    .dataframe thead th {\n",
       "        text-align: right;\n",
       "    }\n",
       "</style>\n",
       "<table border=\"1\" class=\"dataframe\">\n",
       "  <thead>\n",
       "    <tr style=\"text-align: right;\">\n",
       "      <th></th>\n",
       "      <th>X</th>\n",
       "      <th>Y</th>\n",
       "    </tr>\n",
       "  </thead>\n",
       "  <tbody>\n",
       "    <tr>\n",
       "      <th>0</th>\n",
       "      <td>1</td>\n",
       "      <td>1.5</td>\n",
       "    </tr>\n",
       "    <tr>\n",
       "      <th>1</th>\n",
       "      <td>2</td>\n",
       "      <td>3.8</td>\n",
       "    </tr>\n",
       "    <tr>\n",
       "      <th>2</th>\n",
       "      <td>3</td>\n",
       "      <td>6.7</td>\n",
       "    </tr>\n",
       "    <tr>\n",
       "      <th>3</th>\n",
       "      <td>4</td>\n",
       "      <td>9.0</td>\n",
       "    </tr>\n",
       "    <tr>\n",
       "      <th>4</th>\n",
       "      <td>5</td>\n",
       "      <td>11.2</td>\n",
       "    </tr>\n",
       "    <tr>\n",
       "      <th>5</th>\n",
       "      <td>6</td>\n",
       "      <td>13.6</td>\n",
       "    </tr>\n",
       "    <tr>\n",
       "      <th>6</th>\n",
       "      <td>7</td>\n",
       "      <td>16.0</td>\n",
       "    </tr>\n",
       "  </tbody>\n",
       "</table>\n",
       "</div>"
      ],
      "text/plain": [
       "   X     Y\n",
       "0  1   1.5\n",
       "1  2   3.8\n",
       "2  3   6.7\n",
       "3  4   9.0\n",
       "4  5  11.2\n",
       "5  6  13.6\n",
       "6  7  16.0"
      ]
     },
     "execution_count": 74,
     "metadata": {},
     "output_type": "execute_result"
    }
   ],
   "source": [
    "dataframe"
   ]
  },
  {
   "cell_type": "code",
   "execution_count": 75,
   "id": "3e3478e0",
   "metadata": {},
   "outputs": [],
   "source": [
    "dataframe['XY'] = dataframe['X'] * dataframe['Y']\n",
    "dataframe[\"X^2\"] = dataframe['X'] ** 2"
   ]
  },
  {
   "cell_type": "code",
   "execution_count": 76,
   "id": "09b738d7",
   "metadata": {},
   "outputs": [
    {
     "data": {
      "text/html": [
       "<div>\n",
       "<style scoped>\n",
       "    .dataframe tbody tr th:only-of-type {\n",
       "        vertical-align: middle;\n",
       "    }\n",
       "\n",
       "    .dataframe tbody tr th {\n",
       "        vertical-align: top;\n",
       "    }\n",
       "\n",
       "    .dataframe thead th {\n",
       "        text-align: right;\n",
       "    }\n",
       "</style>\n",
       "<table border=\"1\" class=\"dataframe\">\n",
       "  <thead>\n",
       "    <tr style=\"text-align: right;\">\n",
       "      <th></th>\n",
       "      <th>X</th>\n",
       "      <th>Y</th>\n",
       "      <th>XY</th>\n",
       "      <th>X^2</th>\n",
       "    </tr>\n",
       "  </thead>\n",
       "  <tbody>\n",
       "    <tr>\n",
       "      <th>0</th>\n",
       "      <td>1</td>\n",
       "      <td>1.5</td>\n",
       "      <td>1.5</td>\n",
       "      <td>1</td>\n",
       "    </tr>\n",
       "    <tr>\n",
       "      <th>1</th>\n",
       "      <td>2</td>\n",
       "      <td>3.8</td>\n",
       "      <td>7.6</td>\n",
       "      <td>4</td>\n",
       "    </tr>\n",
       "    <tr>\n",
       "      <th>2</th>\n",
       "      <td>3</td>\n",
       "      <td>6.7</td>\n",
       "      <td>20.1</td>\n",
       "      <td>9</td>\n",
       "    </tr>\n",
       "    <tr>\n",
       "      <th>3</th>\n",
       "      <td>4</td>\n",
       "      <td>9.0</td>\n",
       "      <td>36.0</td>\n",
       "      <td>16</td>\n",
       "    </tr>\n",
       "    <tr>\n",
       "      <th>4</th>\n",
       "      <td>5</td>\n",
       "      <td>11.2</td>\n",
       "      <td>56.0</td>\n",
       "      <td>25</td>\n",
       "    </tr>\n",
       "    <tr>\n",
       "      <th>5</th>\n",
       "      <td>6</td>\n",
       "      <td>13.6</td>\n",
       "      <td>81.6</td>\n",
       "      <td>36</td>\n",
       "    </tr>\n",
       "    <tr>\n",
       "      <th>6</th>\n",
       "      <td>7</td>\n",
       "      <td>16.0</td>\n",
       "      <td>112.0</td>\n",
       "      <td>49</td>\n",
       "    </tr>\n",
       "  </tbody>\n",
       "</table>\n",
       "</div>"
      ],
      "text/plain": [
       "   X     Y     XY  X^2\n",
       "0  1   1.5    1.5    1\n",
       "1  2   3.8    7.6    4\n",
       "2  3   6.7   20.1    9\n",
       "3  4   9.0   36.0   16\n",
       "4  5  11.2   56.0   25\n",
       "5  6  13.6   81.6   36\n",
       "6  7  16.0  112.0   49"
      ]
     },
     "execution_count": 76,
     "metadata": {},
     "output_type": "execute_result"
    }
   ],
   "source": [
    "dataframe"
   ]
  },
  {
   "cell_type": "code",
   "execution_count": 77,
   "id": "e524df45",
   "metadata": {},
   "outputs": [],
   "source": [
    "n = len(dataframe)\n",
    "sum_xy = dataframe['XY'].sum()\n",
    "sum_x = dataframe['X'].sum()\n",
    "sum_y = dataframe['Y'].sum()\n",
    "sum_x_2 = dataframe['X^2'].sum()\n",
    "sum_x_h_2 = sum_x ** 2"
   ]
  },
  {
   "cell_type": "markdown",
   "id": "a3855067",
   "metadata": {},
   "source": [
    "$$ m = \\frac{n\\sum x*y - \\sum x\\sum y}{n\\sum x^{2} - (\\sum x)^{2}} $$"
   ]
  },
  {
   "cell_type": "code",
   "execution_count": 78,
   "id": "02be7299",
   "metadata": {},
   "outputs": [
    {
     "data": {
      "text/plain": [
       "2.4142857142857133"
      ]
     },
     "execution_count": 78,
     "metadata": {},
     "output_type": "execute_result"
    }
   ],
   "source": [
    "'''numerator_m = (n*(sum_xy)) - (sum_x * sum_y)\n",
    "denominator_m = (n * sum_x_2) - (sum_x_h_2)\n",
    "\n",
    "numerator_m, denominator_m\n",
    "m = numerator_m / denominator_m\n",
    "m'''\n",
    "class mvalue:\n",
    "    def __init__(self , n , sum_xy , sum_x , sum_y , sum_x_2 , sum_x_h_2):\n",
    "        numerator_m = (n*(sum_xy)) - (sum_x * sum_y)\n",
    "        denominator_m = (n * sum_x_2) - (sum_x_h_2)\n",
    "    def PrintMvalue(self):\n",
    "        value = numerator_m/denominator_m\n",
    "        return value\n",
    "\n",
    "\n",
    "m = mvalue(n , sum_xy , sum_x , sum_y , sum_x_2 , sum_x_h_2)\n",
    "m = m.PrintMvalue()\n",
    "m"
   ]
  },
  {
   "cell_type": "markdown",
   "id": "f3f15bdb",
   "metadata": {},
   "source": [
    "$$b = \\frac{\\sum y - m * \\sum x}{n}$$"
   ]
  },
  {
   "cell_type": "code",
   "execution_count": 96,
   "id": "9bc62615",
   "metadata": {},
   "outputs": [
    {
     "data": {
      "text/plain": [
       "-0.8285714285714231"
      ]
     },
     "execution_count": 96,
     "metadata": {},
     "output_type": "execute_result"
    }
   ],
   "source": [
    "class bvalue:\n",
    "    def __init__(self , m , sum_y , sum_x , n):\n",
    "        self.numerator_b = sum_y - (m * sum_x)\n",
    "        self.denominator_b = n\n",
    "    def PrintBvalue(self):\n",
    "        self.value = self.numerator_b/self.denominator_b \n",
    "        return self.value\n",
    "\n",
    "    \n",
    "b = bvalue(m , sum_y , sum_x , n)\n",
    "b = b.PrintBvalue()\n",
    "b"
   ]
  },
  {
   "cell_type": "markdown",
   "id": "5374764a",
   "metadata": {},
   "source": [
    "$$y_{pred} = m\\sum_{i = 1}^{n}X + b $$"
   ]
  },
  {
   "cell_type": "code",
   "execution_count": 106,
   "id": "7ae5e650",
   "metadata": {},
   "outputs": [
    {
     "data": {
      "text/plain": [
       "[1.59, 4.0, 6.41, 8.83, 11.24, 13.66, 16.07]"
      ]
     },
     "execution_count": 106,
     "metadata": {},
     "output_type": "execute_result"
    }
   ],
   "source": [
    "class y_pred_Value:\n",
    "    def __init__(self , m , X , b):\n",
    "        self.y_pred = [round((m * Xi + b), 2) for Xi in dataframe['X']]\n",
    "    def PrintYpred(self):\n",
    "        return self.y_pred\n",
    "\n",
    "\n",
    "ypred = y_pred_Value(m,X,b)\n",
    "ypred = ypred.PrintYpred()\n",
    "ypred"
   ]
  },
  {
   "cell_type": "markdown",
   "id": "320fa58f",
   "metadata": {},
   "source": [
    "$$squarederror = \\sum_{i=0}^{n}  (y_{pred} - y_{org})^{2}$$"
   ]
  },
  {
   "cell_type": "code",
   "execution_count": 109,
   "id": "b8f35ec2",
   "metadata": {},
   "outputs": [
    {
     "data": {
      "text/plain": [
       "0.17120000000000024"
      ]
     },
     "execution_count": 109,
     "metadata": {},
     "output_type": "execute_result"
    }
   ],
   "source": [
    "class SquaredEr:\n",
    "    def __init__(self , ypred ,Y):\n",
    "        self.SE = sum([(y_pred_value - y_org_value) ** 2 \n",
    "        for y_pred_value, y_org_value in zip(ypred, dataframe['Y'].values)])\n",
    "    def PrintSquaredError(self):\n",
    "        return self.SE\n",
    "    \n",
    "squared_error = SquaredEr(ypred ,Y)\n",
    "squared_error = squared_error.PrintSquaredError()\n",
    "squared_error"
   ]
  },
  {
   "cell_type": "code",
   "execution_count": 118,
   "id": "f51fc514",
   "metadata": {},
   "outputs": [
    {
     "data": {
      "image/png": "[encoded data removed]",
      "text/plain": [
       "<Figure size 432x288 with 1 Axes>"
      ]
     },
     "metadata": {
      "needs_background": "light"
     },
     "output_type": "display_data"
    }
   ],
   "source": [
    "class graph:\n",
    "    def __init__(self,dataframe,y_pred):\n",
    "        plt.scatter(list(range(len(dataframe))), dataframe['Y'].values, label=\"original\")\n",
    "        plt.plot(list(range(len(dataframe))), y_pred, c='r', label=\"predicted\")\n",
    "        plt.scatter(list(range(len(dataframe))), y_pred, c='y', label=\"predicted_S\")\n",
    "        plt.legend()\n",
    "        plt.show()\n",
    "\n",
    "import matplotlib.pyplot as plt\n",
    "Graph_Var = graph(dataframe,ypred)"
   ]
  }
 ],
 "metadata": {
  "kernelspec": {
   "display_name": "Python 3",
   "language": "python",
   "name": "python3"
  },
  "language_info": {
   "codemirror_mode": {
    "name": "ipython",
    "version": 3
   },
   "file_extension": ".py",
   "mimetype": "text/x-python",
   "name": "python",
   "nbconvert_exporter": "python",
   "pygments_lexer": "ipython3",
   "version": "3.8.8"
  }
 },
 "nbformat": 4,
 "nbformat_minor": 5
}
